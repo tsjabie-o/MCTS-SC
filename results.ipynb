{
 "cells": [
  {
   "attachments": {},
   "cell_type": "markdown",
   "metadata": {},
   "source": [
    "# Results\n",
    "## Imports and data reading"
   ]
  },
  {
   "cell_type": "code",
   "execution_count": null,
   "metadata": {},
   "outputs": [],
   "source": [
    "import pandas as pd\n",
    "import seaborn as sns\n",
    "import matplotlib.pyplot as plt\n",
    "import matplotlib.ticker as ticker"
   ]
  },
  {
   "cell_type": "code",
   "execution_count": null,
   "metadata": {},
   "outputs": [],
   "source": [
    "sns.set_theme()\n",
    "sns.set_style(\"whitegrid\")\n",
    "data = pd.read_csv(\"data_norm.csv\", index_col=0)\n",
    "data_t = pd.read_csv(\"data_tree.csv\", index_col=0)"
   ]
  },
  {
   "attachments": {},
   "cell_type": "markdown",
   "metadata": {},
   "source": [
    "## Cleaning data\n",
    "Removing outliers grouped by `n` and `method`"
   ]
  },
  {
   "cell_type": "code",
   "execution_count": null,
   "metadata": {},
   "outputs": [],
   "source": [
    "def filter_time(df):\n",
    "    data_filtered_time = pd.DataFrame()\n",
    "    groups = df.groupby([\"n\", \"method\"])\n",
    "\n",
    "    for group_name, group_data in groups:\n",
    "        q1 = group_data['time'].quantile(0.25)\n",
    "        q3 = group_data['time'].quantile(0.75)\n",
    "        iqr = q3 - q1\n",
    "\n",
    "        group_filtered = group_data[\n",
    "            (group_data['time'] >= q1 - 1.5 * iqr) &\n",
    "            (group_data['time'] <= q3 + 1.5 * iqr)\n",
    "        ]\n",
    "\n",
    "        data_filtered_time = pd.concat([data_filtered_time, group_filtered])\n",
    "\n",
    "    return data_filtered_time\n",
    "\n",
    "data = filter_time(data)\n",
    "data_t = filter_time(data_t)"
   ]
  },
  {
   "attachments": {},
   "cell_type": "markdown",
   "metadata": {},
   "source": [
    "## Tables and plots of means of values"
   ]
  },
  {
   "attachments": {},
   "cell_type": "markdown",
   "metadata": {},
   "source": [
    "### `data` is the main test run\n",
    "#### Table"
   ]
  },
  {
   "cell_type": "code",
   "execution_count": null,
   "metadata": {},
   "outputs": [],
   "source": [
    "# Averages, grouped by method and n\n",
    "means = data.groupby([\"method\", \"n\"])[[\"time\", \"visited_nodes\", \"tree_size\"]].mean()\n",
    "print(means)"
   ]
  },
  {
   "attachments": {},
   "cell_type": "markdown",
   "metadata": {},
   "source": [
    "#### Plots"
   ]
  },
  {
   "cell_type": "code",
   "execution_count": null,
   "metadata": {},
   "outputs": [],
   "source": [
    "fig, ax = plt.subplots()\n",
    "sns.lineplot(data=means, y=\"time\", x=\"n\", hue=\"method\")\n",
    "hands, labs = ax.get_legend_handles_labels()\n",
    "plt.legend(handles=hands, labels=[\"Backtracking\", \"MCTS\"], title=\"Algorithm\")\n",
    "plt.xlabel('Number of pieces')\n",
    "plt.ylabel('Time (seconds)')\n",
    "plt.xticks(list(range(4, 16)))"
   ]
  },
  {
   "cell_type": "code",
   "execution_count": null,
   "metadata": {},
   "outputs": [],
   "source": [
    "fig, ax = plt.subplots()\n",
    "sns.lineplot(data=means, y=\"visited_nodes\", x=\"n\", hue=\"method\")\n",
    "hands, labs = ax.get_legend_handles_labels()\n",
    "plt.legend(handles=hands, labels=[\"Backtracking\", \"MCTS\"], title=\"Algorithm\")\n",
    "plt.xlabel('Number of pieces')\n",
    "plt.ylabel('Number of visited nodes')\n",
    "plt.xticks(list(range(4, 16)))"
   ]
  },
  {
   "cell_type": "code",
   "execution_count": null,
   "metadata": {},
   "outputs": [],
   "source": [
    "fig, ax = plt.subplots()\n",
    "sns.lineplot(data=means, y=\"tree_size\", x=\"n\", hue=\"method\")\n",
    "hands, labs = ax.get_legend_handles_labels()\n",
    "# plt.yscale(\"log\")\n",
    "plt.legend(handles=hands, labels=[\"Backtracking\", \"MCTS\"], title=\"Algorithm\")\n",
    "plt.xlabel('Number of pieces')\n",
    "plt.ylabel('Number of states')\n",
    "plt.xticks(list(range(4, 16)))"
   ]
  },
  {
   "attachments": {},
   "cell_type": "markdown",
   "metadata": {},
   "source": [
    "### `data_t` is the supplementary test run\n",
    "\n",
    "#### Table"
   ]
  },
  {
   "cell_type": "code",
   "execution_count": null,
   "metadata": {},
   "outputs": [],
   "source": [
    "# Averages, grouped by method and n\n",
    "means = data_t.groupby([\"method\", \"n\"])[[\"time\", \"visited_nodes\", \"tree_size\"]].mean()\n",
    "print(means)"
   ]
  },
  {
   "attachments": {},
   "cell_type": "markdown",
   "metadata": {},
   "source": [
    "#### Plots"
   ]
  },
  {
   "cell_type": "code",
   "execution_count": null,
   "metadata": {},
   "outputs": [],
   "source": [
    "fig, ax = plt.subplots()\n",
    "sns.lineplot(data=means, y=\"time\", x=\"n\", hue=\"method\", palette=\"deep\")\n",
    "hands, labs = ax.get_legend_handles_labels()\n",
    "plt.legend(handles=hands, labels=[\"Backtracking\", \"MCTS\"], title=\"Algorithm\")\n",
    "plt.xlabel('Number of pieces')\n",
    "plt.ylabel('Time (seconds)')"
   ]
  },
  {
   "cell_type": "code",
   "execution_count": null,
   "metadata": {},
   "outputs": [],
   "source": [
    "fig, ax = plt.subplots()\n",
    "sns.lineplot(data=means, y=\"visited_nodes\", x=\"n\", hue=\"method\", palette=\"deep\")\n",
    "hands, labs = ax.get_legend_handles_labels()\n",
    "plt.legend(handles=hands, labels=[\"Backtracking\", \"MCTS\"], title=\"Algorithm\")\n",
    "plt.xlabel('Number of pieces')\n",
    "plt.ylabel('Number of visited nodes')"
   ]
  }
 ],
 "metadata": {
  "kernelspec": {
   "display_name": "Python 3",
   "language": "python",
   "name": "python3"
  },
  "language_info": {
   "codemirror_mode": {
    "name": "ipython",
    "version": 3
   },
   "file_extension": ".py",
   "mimetype": "text/x-python",
   "name": "python",
   "nbconvert_exporter": "python",
   "pygments_lexer": "ipython3",
   "version": "3.11.3"
  },
  "orig_nbformat": 4
 },
 "nbformat": 4,
 "nbformat_minor": 2
}
