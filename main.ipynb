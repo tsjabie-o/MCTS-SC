{
 "cells": [
  {
   "cell_type": "code",
   "execution_count": null,
   "metadata": {},
   "outputs": [],
   "source": [
    "from mcts import MCTS\n",
    "from generator import Generator\n",
    "from utils import Utils\n",
    "from backtrack import Backtrack\n",
    "\n",
    "import time\n",
    "import pandas as pd\n",
    "import seaborn as sns\n",
    "import matplotlib.pyplot as plt"
   ]
  },
  {
   "attachments": {},
   "cell_type": "markdown",
   "metadata": {},
   "source": [
    "Generating puzzles"
   ]
  },
  {
   "cell_type": "code",
   "execution_count": null,
   "metadata": {},
   "outputs": [],
   "source": [
    "gen = Generator()\n",
    "ps = [gen.getPuzzle(i) for i in range(4, 15) for _ in range(300)]\n",
    "ps = {pid: p for pid, p in enumerate(ps)}\n",
    "print(f\"{len(ps)} puzzles to solve\")"
   ]
  },
  {
   "attachments": {},
   "cell_type": "markdown",
   "metadata": {},
   "source": [
    "Creating a list of dictionaries which we'll turn into a dataframe later"
   ]
  },
  {
   "cell_type": "code",
   "execution_count": null,
   "metadata": {},
   "outputs": [],
   "source": [
    "data = []"
   ]
  },
  {
   "attachments": {},
   "cell_type": "markdown",
   "metadata": {},
   "source": [
    "Main loop of solving puzzles"
   ]
  },
  {
   "cell_type": "code",
   "execution_count": null,
   "metadata": {},
   "outputs": [],
   "source": [
    "for pid in ps:\n",
    "    print(f\"{int(pid/len(ps) * 100)}% done\")\n",
    "\n",
    "    # MCTS, random\n",
    "    mcts = MCTS(ps[pid])\n",
    "\n",
    "    start = time.process_time()\n",
    "    mcts.run()\n",
    "    stop = time.process_time()\n",
    "    \n",
    "    t = stop - start\n",
    "    vn = mcts.visited\n",
    "    \n",
    "    data.append({\n",
    "        \"pid\":pid,\n",
    "        \"n\":len(ps[pid].ps),\n",
    "        \"method\":\"mcts\",\n",
    "        \"heuristic\":\"false\",\n",
    "        \"visited_nodes\":vn,\n",
    "        \"time\":t\n",
    "    })\n",
    "\n",
    "    # MCTS, Rank\n",
    "    mcts = MCTS(ps[pid], h = \"R\")\n",
    "\n",
    "    start = time.process_time()\n",
    "    mcts.run()\n",
    "    stop = time.process_time()\n",
    "    \n",
    "    t = stop - start\n",
    "    vn = mcts.visited\n",
    "\n",
    "    data.append({\n",
    "        \"pid\":pid,\n",
    "        \"n\":len(ps[pid].ps),\n",
    "        \"method\":\"mcts\",\n",
    "        \"heuristic\":\"true\",\n",
    "        \"visited_nodes\":vn,\n",
    "        \"time\":t\n",
    "    })\n",
    "\n",
    "    # Backtrack, random\n",
    "    bt = Backtrack(ps[pid])\n",
    "\n",
    "    start = time.process_time()\n",
    "    bt.run()\n",
    "    stop = time.process_time()\n",
    "\n",
    "    t = stop - start\n",
    "    vn = bt.visited\n",
    "\n",
    "    data.append({\n",
    "        \"pid\":pid,\n",
    "        \"n\":len(ps[pid].ps),\n",
    "        \"method\":\"bt\",\n",
    "        \"heuristic\":\"false\",\n",
    "        \"visited_nodes\":vn,\n",
    "        \"time\":t\n",
    "    })\n",
    "\n",
    "    # Backtrack, Rank\n",
    "    bt = Backtrack(ps[pid], h = \"R\")\n",
    "\n",
    "    start = time.process_time()\n",
    "    bt.run()\n",
    "    stop = time.process_time()\n",
    "\n",
    "    t = stop - start\n",
    "    vn = bt.visited\n",
    "\n",
    "    data.append({\n",
    "        \"pid\":pid,\n",
    "        \"n\":len(ps[pid].ps),\n",
    "        \"method\":\"bt\",\n",
    "        \"heuristic\":\"true\",\n",
    "        \"visited_nodes\":vn,\n",
    "        \"time\":t\n",
    "    })\n",
    "\n",
    "print(\"DONE\")"
   ]
  },
  {
   "cell_type": "code",
   "execution_count": null,
   "metadata": {},
   "outputs": [],
   "source": [
    "data = pd.DataFrame(data)\n",
    "data.to_csv(\"./data.csv\")\n",
    "\n",
    "means_vn = data.groupby([\"method\", \"n\"])[\"visited_nodes\"].mean().reset_index()\n",
    "means_t = data.groupby([\"method\", \"n\"])[\"time\"].mean().reset_index()"
   ]
  },
  {
   "cell_type": "code",
   "execution_count": null,
   "metadata": {},
   "outputs": [],
   "source": [
    "sns.set_theme(style=\"whitegrid\")\n",
    "sns.barplot(data=means_vn, x = \"n\", hue = \"method\", y = \"visited_nodes\")"
   ]
  },
  {
   "cell_type": "code",
   "execution_count": null,
   "metadata": {},
   "outputs": [],
   "source": [
    "p = gen.getPuzzle(10)\n",
    "vn = []\n",
    "\n",
    "for _ in range(10):\n",
    "    mcts = MCTS(p)\n",
    "    mcts.run()\n",
    "    vn.append(mcts.visited)\n",
    "\n",
    "print(vn)"
   ]
  },
  {
   "cell_type": "code",
   "execution_count": null,
   "metadata": {},
   "outputs": [],
   "source": []
  }
 ],
 "metadata": {
  "kernelspec": {
   "display_name": "Python 3",
   "language": "python",
   "name": "python3"
  },
  "language_info": {
   "codemirror_mode": {
    "name": "ipython",
    "version": 3
   },
   "file_extension": ".py",
   "mimetype": "text/x-python",
   "name": "python",
   "nbconvert_exporter": "python",
   "pygments_lexer": "ipython3",
   "version": "3.11.3"
  },
  "orig_nbformat": 4
 },
 "nbformat": 4,
 "nbformat_minor": 2
}
